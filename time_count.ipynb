{
 "cells": [
  {
   "cell_type": "code",
   "execution_count": null,
   "source": [
    "import calendar\n",
    "import pandas as pd\n",
    "import pandas as pd\n",
    "from itertools import chain\n",
    "import collections\n",
    "\n",
    "def add_month_yr(x):\n",
    "    \"\"\"add month and year column\n",
    "\n",
    "    Args:\n",
    "        x (dataframe): dataframe\n",
    "\n",
    "    Returns:\n",
    "        dataframe: dataframe with month-yr column\n",
    "    \"\"\"    \n",
    "    assert isinstance(x,pd.DataFrame)\n",
    "    x['Timestamp_stamp'] =pd.to_datetime(x['Timestamp'], format='%m/%d/%Y %H:%M',dayfirst=True)\n",
    "    x['Month'] = x['Timestamp_stamp'].dt.month\n",
    "    x['Month'] = x['Month'].apply(lambda x: calendar.month_abbr[x])\n",
    "    x['Year'] = x['Timestamp_stamp'].dt.year\n",
    "    x['month-yr'] =  x[\"Month\"] +'-'+x[\"Year\"].astype(str)\n",
    "    x = x.drop(['Timestamp_stamp', 'Month', 'Year'], axis=1)\n",
    "    return x"
   ],
   "outputs": [],
   "metadata": {}
  },
  {
   "cell_type": "code",
   "execution_count": null,
   "source": [
    "x = pd.read_csv('./survey_data.csv',sep = ',',header = 0) \n",
    "x.head()"
   ],
   "outputs": [],
   "metadata": {}
  },
  {
   "cell_type": "code",
   "execution_count": null,
   "source": [
    "\n",
    "y = add_month_yr(x)\n",
    "#pd.DataFramey_month_yr = y['month-yr']\n",
    "count_df = pd.DataFrame(y['month-yr'].value_counts())\n",
    "count_df = count_df.rename(columns ={'month-yr':'Timestamp'})\n",
    "#count_df.columns\n",
    "count_df\n",
    "count_df.index.name = 'month-yr'\n",
    "count_df\n",
    "\n"
   ],
   "outputs": [],
   "metadata": {}
  },
  {
   "cell_type": "code",
   "execution_count": null,
   "source": [
    "def count_month_yr(x):\n",
    "    \"\"\"count month and year\n",
    "\n",
    "    Args:\n",
    "        x (dataframe): input dataframe\n",
    "\n",
    "    Returns:\n",
    "        dataframe: output dataframe\n",
    "    \"\"\"    \n",
    "    y = add_month_yr(x) \n",
    "    count_df = pd.DataFrame(y['month-yr'].value_counts())\n",
    "    count_df = count_df.rename(columns ={'month-yr':'Timestamp'})\n",
    "    count_df.index.name = 'month-yr'\n",
    "    return count_df\n",
    "    "
   ],
   "outputs": [],
   "metadata": {}
  },
  {
   "cell_type": "code",
   "execution_count": null,
   "source": [
    "count_month_yr(add_month_yr(x))"
   ],
   "outputs": [],
   "metadata": {}
  },
  {
   "cell_type": "code",
   "execution_count": null,
   "source": [
    "y = add_month_yr(x)\n",
    "y"
   ],
   "outputs": [],
   "metadata": {}
  },
  {
   "cell_type": "code",
   "execution_count": null,
   "source": [
    "splitted = []\n",
    "\n",
    "y = add_month_yr(x)\n",
    "y_month_yr = y['month-yr']\n",
    "\n",
    "for i in y_month_yr:\n",
    "    splitted.append(i.split(','))\n",
    "    y = list(chain.from_iterable(splitted))\n",
    "    #print()\n",
    "counter=collections.Counter(y)\n",
    "counter\n",
    "data = pd.DataFrame(counter.items())\n",
    "data = data.rename(columns={0: '', 1: 'Count'})\n",
    "data = data.sort_values(by = ['Count'],ascending=True)\n",
    "data.reset_index(drop=True, inplace=True)\n",
    "data"
   ],
   "outputs": [],
   "metadata": {}
  },
  {
   "cell_type": "code",
   "execution_count": 1,
   "source": [
    "import calendar\n",
    "import pandas as pd\n",
    "import pandas as pd\n",
    "\n",
    "def add_month_yr(x):\n",
    "    \"\"\"add month and year column\n",
    "\n",
    "    Args:\n",
    "        x (dataframe): dataframe\n",
    "\n",
    "    Returns:\n",
    "        dataframe: dataframe with month-yr column\n",
    "    \"\"\"    \n",
    "    assert isinstance(x,pd.DataFrame)\n",
    "    x['Timestamp_stamp'] =pd.to_datetime(x['Timestamp'], format='%m/%d/%Y %H:%M',dayfirst=True)\n",
    "    x['Month'] = x['Timestamp_stamp'].dt.month\n",
    "    x['Month'] = x['Month'].apply(lambda x: calendar.month_abbr[x])\n",
    "    x['Year'] = x['Timestamp_stamp'].dt.year\n",
    "    x['month-yr'] =  x[\"Month\"] +'-'+x[\"Year\"].astype(str)\n",
    "    x = x.drop(['Timestamp_stamp', 'Month', 'Year'], axis=1)\n",
    "    return x\n",
    "\n",
    "def count_month_yr(x):\n",
    "    \"\"\"count month and year\n",
    "\n",
    "    Args:\n",
    "        x (dataframe): input dataframe\n",
    "\n",
    "    Returns:\n",
    "        dataframe: output dataframe\n",
    "    \"\"\"    \n",
    "    assert isinstance(x,pd.DataFrame)\n",
    "    y = add_month_yr(x) \n",
    "    count_df = pd.DataFrame(y['month-yr'].value_counts())\n",
    "    count_df = count_df.rename(columns ={'month-yr':'Timestamp'})\n",
    "    count_df.index.name = 'month-yr'\n",
    "    return count_df\n",
    "\n",
    "x = pd.read_csv('./survey_data.csv',sep = ',',header = 0) \n",
    "count_month_yr(add_month_yr(x))\n"
   ],
   "outputs": [
    {
     "output_type": "execute_result",
     "data": {
      "text/html": [
       "<div>\n",
       "<style scoped>\n",
       "    .dataframe tbody tr th:only-of-type {\n",
       "        vertical-align: middle;\n",
       "    }\n",
       "\n",
       "    .dataframe tbody tr th {\n",
       "        vertical-align: top;\n",
       "    }\n",
       "\n",
       "    .dataframe thead th {\n",
       "        text-align: right;\n",
       "    }\n",
       "</style>\n",
       "<table border=\"1\" class=\"dataframe\">\n",
       "  <thead>\n",
       "    <tr style=\"text-align: right;\">\n",
       "      <th></th>\n",
       "      <th>Timestamp</th>\n",
       "    </tr>\n",
       "    <tr>\n",
       "      <th>month-yr</th>\n",
       "      <th></th>\n",
       "    </tr>\n",
       "  </thead>\n",
       "  <tbody>\n",
       "    <tr>\n",
       "      <th>Jan-2018</th>\n",
       "      <td>148</td>\n",
       "    </tr>\n",
       "    <tr>\n",
       "      <th>Sep-2018</th>\n",
       "      <td>130</td>\n",
       "    </tr>\n",
       "    <tr>\n",
       "      <th>Sep-2017</th>\n",
       "      <td>74</td>\n",
       "    </tr>\n",
       "    <tr>\n",
       "      <th>Jan-2019</th>\n",
       "      <td>57</td>\n",
       "    </tr>\n",
       "    <tr>\n",
       "      <th>Mar-2018</th>\n",
       "      <td>41</td>\n",
       "    </tr>\n",
       "    <tr>\n",
       "      <th>Apr-2018</th>\n",
       "      <td>28</td>\n",
       "    </tr>\n",
       "    <tr>\n",
       "      <th>Oct-2018</th>\n",
       "      <td>6</td>\n",
       "    </tr>\n",
       "    <tr>\n",
       "      <th>Feb-2018</th>\n",
       "      <td>2</td>\n",
       "    </tr>\n",
       "  </tbody>\n",
       "</table>\n",
       "</div>"
      ],
      "text/plain": [
       "          Timestamp\n",
       "month-yr           \n",
       "Jan-2018        148\n",
       "Sep-2018        130\n",
       "Sep-2017         74\n",
       "Jan-2019         57\n",
       "Mar-2018         41\n",
       "Apr-2018         28\n",
       "Oct-2018          6\n",
       "Feb-2018          2"
      ]
     },
     "metadata": {},
     "execution_count": 1
    }
   ],
   "metadata": {}
  }
 ],
 "metadata": {
  "orig_nbformat": 4,
  "language_info": {
   "name": "python",
   "version": "3.7.10",
   "mimetype": "text/x-python",
   "codemirror_mode": {
    "name": "ipython",
    "version": 3
   },
   "pygments_lexer": "ipython3",
   "nbconvert_exporter": "python",
   "file_extension": ".py"
  },
  "kernelspec": {
   "name": "python3",
   "display_name": "Python 3.7.10 64-bit ('datascience': conda)"
  },
  "interpreter": {
   "hash": "617f11523be5cd817b7834227564a7fc9dbfbd59f0605d4738510472b4b375ae"
  }
 },
 "nbformat": 4,
 "nbformat_minor": 2
}