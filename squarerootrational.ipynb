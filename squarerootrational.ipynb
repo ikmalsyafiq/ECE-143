{
 "cells": [
  {
   "cell_type": "code",
   "execution_count": 48,
   "source": [
    "class Rational():\n",
    "    def __init__(self, numerator, denominator):\n",
    "        self.numerator = numerator\n",
    "        self.denominator = denominator\n",
    "    \n",
    "    def __repr__(self):\n",
    "        return self.__str__()\n",
    "\n",
    "    def __str__(self):\n",
    "        if self.numerator/self.denominator == self.numerator//self.denominator :\n",
    "            return str(self.numerator//self.denominator)\n",
    "        else:\n",
    "            return f'{self.numerator}/{self.denominator}'\n",
    "   \n",
    "    def __gcd__(self,x, y):\n",
    "        while(y):\n",
    "            x, y = y, x % y\n",
    "        return x\n",
    "\n",
    "    def gcd(self,x,y):\n",
    "        hcf = self.__gcd__(x,y)\n",
    "        return x//hcf,y//hcf\n",
    "    \n",
    "    def __rtruediv__(self, other):\n",
    "        if type(other) == self.__class__:\n",
    "            num = other.numerator * self.denominator\n",
    "            den = other.denominator * self.numerator\n",
    "        else:\n",
    "            num = other * self.denominator\n",
    "            den = self.numerator\n",
    "        num, den  = self.gcd(num,den)\n",
    "        return Rational(num,den)\n",
    "        \n",
    "    def __truediv__(self, other):\n",
    "        if type(other) == self.__class__:\n",
    "            num = self.numerator * other.denominator\n",
    "            den = self.denominator * other.numerator\n",
    "        else:\n",
    "            num = self.numerator\n",
    "            den = self.denominator * other\n",
    "        num, den  = self.gcd(num,den)\n",
    "        return Rational(num,den)\n",
    "    \n",
    "    def __float__(self):\n",
    "        return self.numerator/self.denominator\n",
    "\n",
    "    def __int__(self):\n",
    "        return int(self.numerator/self.denominator)\n",
    "    \n",
    "    def __neg__(self):\n",
    "        return Rational(-self.numerator,self.denominator)\n",
    "    \n",
    "    def __add__(self, other):\n",
    "        if type(other) == self.__class__:\n",
    "            if self.denominator != other.denominator:\n",
    "                num = self.numerator*other.denominator + other.numerator*self.denominator\n",
    "                den = self.denominator * other.denominator\n",
    "            else:\n",
    "                num = self.numerator + other.numerator\n",
    "                den = self.denominator\n",
    "        else:\n",
    "            num = self.numerator + self.denominator * other\n",
    "            den = self.denominator\n",
    "        \n",
    "        num, den  = self.gcd(num,den)\n",
    "        return Rational(num,den)\n",
    "\n",
    "    def __radd__(self, other):\n",
    "        if type(other) == self.__class__:\n",
    "            if self.denominator != other.denominator:\n",
    "                num = self.numerator*other.denominator + other.numerator*self.denominator\n",
    "                den = self.denominator * other.denominator\n",
    "            else:\n",
    "                num = self.numerator + other.numerator\n",
    "                den = self.denominator\n",
    "        else:\n",
    "            num = self.numerator + self.denominator * other\n",
    "            den = self.denominator\n",
    "        \n",
    "        num, den  = self.gcd(num,den)\n",
    "        return Rational(num,den)\n",
    "\n",
    "    def __sub__(self, other):\n",
    "        if type(other) == self.__class__:\n",
    "            if self.denominator != other.denominator:\n",
    "                num = self.numerator*other.denominator - other.numerator*self.denominator\n",
    "                den = self.denominator * other.denominator\n",
    "            else:\n",
    "                num = self.numerator - other.numerator\n",
    "                den = self.denominator\n",
    "        else:\n",
    "            num = self.numerator - self.denominator * other\n",
    "            den = self.denominator\n",
    "        \n",
    "        num, den  = self.gcd(num,den)\n",
    "        return Rational(num,den)\n",
    "\n",
    "    def __rsub__(self, other):\n",
    "        if type(other) == self.__class__:\n",
    "            if self.denominator != other.denominator:\n",
    "                num = other.numerator*self.denominator - self.numerator*other.denominator \n",
    "                den = self.denominator * other.denominator\n",
    "            else:\n",
    "                num = other.numerator - self.numerator\n",
    "                den = self.denominator\n",
    "        else:\n",
    "            num = self.denominator * other - self.numerator\n",
    "            den = self.denominator\n",
    "        \n",
    "        num, den  = self.gcd(num,den)\n",
    "        return Rational(num,den)\n",
    "    \n",
    "\n",
    "    def __lt__(self,other):\n",
    "        if type(other) == self.__class__:\n",
    "            s = eval(repr(self))\n",
    "            o = eval(repr(other))\n",
    "        else:\n",
    "            s = eval(repr(self))\n",
    "            o = (other)\n",
    "        if s<o:return 1\n",
    "        else:return 0\n",
    "\n",
    "    def __gt__(self,other):\n",
    "        if type(other) == self.__class__:\n",
    "            s = eval(repr(self))\n",
    "            o = eval(repr(other))\n",
    "        else:\n",
    "            s = eval(repr(self))\n",
    "            o = other\n",
    "        if s>o:return 1\n",
    "        else:return 0\n",
    "\n",
    "    def __eq__(self,other):\n",
    "        if type(other) == self.__class__:\n",
    "            s = eval(repr(self))\n",
    "            o = eval(repr(other))\n",
    "        else:\n",
    "            s = eval(repr(self))\n",
    "            o = other\n",
    "        if s==o:return 1\n",
    "        else:return 0"
   ],
   "outputs": [],
   "metadata": {}
  },
  {
   "cell_type": "code",
   "execution_count": null,
   "source": [
    "while abs(ans**2 - abs(z)) > 0.00001 and ans <= y:   \n",
    "    ans = (x + y) / 2.0\n",
    "\n",
    "    if ans**2 < z:\n",
    "        x = ans\n",
    "    else:\n",
    "        y = ans"
   ],
   "outputs": [],
   "metadata": {}
  },
  {
   "cell_type": "code",
   "execution_count": 11,
   "source": [
    "z = float(Rational(1112,3))\n",
    "y = float(Rational(1112,3))\n",
    "abs_tol=Rational(1,1000)\n",
    "abs_tol = float(abs_tol)\n",
    "print(abs_tol)\n",
    "x = 0\n",
    "ans = 0\n",
    "\n",
    "while abs(ans**2 - abs(z)) > abs_tol and ans <= y:   \n",
    "    ans = (x + y) / 2.0\n",
    "\n",
    "    if ans**2 < z:\n",
    "        x = ans\n",
    "    else:\n",
    "        y = ans\n",
    "\n",
    "print ('The square root of', z, 'is', ans)\n"
   ],
   "outputs": [
    {
     "output_type": "stream",
     "name": "stdout",
     "text": [
      "0.001\n",
      "The square root of 370.6666666666667 is 19.25272274017334\n"
     ]
    }
   ],
   "metadata": {}
  },
  {
   "cell_type": "code",
   "execution_count": 44,
   "source": [
    "\n",
    "def squareRoot(x,epsilon):\n",
    "    low = 0\n",
    "    high = max(1.0,x)\n",
    "    y = (high+low)/2.0\n",
    "    while abs(y**2-x)>=epsilon:\n",
    "        if y**2 < x:\n",
    "            low = y\n",
    "        else:\n",
    "            high = y\n",
    "        y = (high+low)/2.0\n",
    "    return y"
   ],
   "outputs": [],
   "metadata": {}
  },
  {
   "cell_type": "code",
   "execution_count": 46,
   "source": [
    "\n",
    "mmn = (squareRoot(z,abs_tol))"
   ],
   "outputs": [],
   "metadata": {}
  },
  {
   "cell_type": "code",
   "execution_count": 47,
   "source": [
    "from math import sqrt\n",
    "abs(mmn - sqrt(z))"
   ],
   "outputs": [
    {
     "output_type": "execute_result",
     "data": {
      "text/plain": [
       "1.7302581802880468e-05"
      ]
     },
     "metadata": {},
     "execution_count": 47
    }
   ],
   "metadata": {}
  },
  {
   "cell_type": "code",
   "execution_count": 36,
   "source": [
    "m = Rational(10093849,524288)\n",
    "float(m)\n"
   ],
   "outputs": [
    {
     "output_type": "execute_result",
     "data": {
      "text/plain": [
       "19.25248908996582"
      ]
     },
     "metadata": {},
     "execution_count": 36
    }
   ],
   "metadata": {}
  },
  {
   "cell_type": "code",
   "execution_count": 37,
   "source": [
    "def square_root_precision(n, a):\n",
    "    approx_zero = n / 2\n",
    "    approx_one = 0\n",
    "    while True:\n",
    "        approx_one = (approx_zero + n / approx_zero) / 2\n",
    "        if abs(approx_one - approx_zero) < a:\n",
    "            return approx_one\n",
    "        approx_zero = approx_one\n"
   ],
   "outputs": [],
   "metadata": {}
  },
  {
   "cell_type": "code",
   "execution_count": 38,
   "source": [
    "square_root_precision(z, abs_tol)"
   ],
   "outputs": [
    {
     "output_type": "execute_result",
     "data": {
      "text/plain": [
       "19.252705437690214"
      ]
     },
     "metadata": {},
     "execution_count": 38
    }
   ],
   "metadata": {}
  },
  {
   "cell_type": "code",
   "execution_count": 49,
   "source": [
    "class Rational():\n",
    "    def __init__(self, numerator, denominator):\n",
    "        self.numerator = numerator\n",
    "        self.denominator = denominator\n",
    "    \n",
    "    def __repr__(self):\n",
    "        return self.__str__()\n",
    "\n",
    "    def __str__(self):\n",
    "        if self.numerator/self.denominator == self.numerator//self.denominator :\n",
    "            return str(self.numerator//self.denominator)\n",
    "        else:\n",
    "            return f'{self.numerator}/{self.denominator}'\n",
    "   \n",
    "    def __gcd__(self,x, y):\n",
    "        while(y):\n",
    "            x, y = y, x % y\n",
    "        return x\n",
    "\n",
    "    def gcd(self,x,y):\n",
    "        hcf = self.__gcd__(x,y)\n",
    "        return x//hcf,y//hcf\n",
    "    \n",
    "    def __rtruediv__(self, other):\n",
    "        if type(other) == self.__class__:\n",
    "            num = other.numerator * self.denominator\n",
    "            den = other.denominator * self.numerator\n",
    "        else:\n",
    "            num = other * self.denominator\n",
    "            den = self.numerator\n",
    "        num, den  = self.gcd(num,den)\n",
    "        return Rational(num,den)\n",
    "        \n",
    "    def __truediv__(self, other):\n",
    "        if type(other) == self.__class__:\n",
    "            num = self.numerator * other.denominator\n",
    "            den = self.denominator * other.numerator\n",
    "        else:\n",
    "            num = self.numerator\n",
    "            den = self.denominator * other\n",
    "        num, den  = self.gcd(num,den)\n",
    "        return Rational(num,den)\n",
    "    \n",
    "    def __float__(self):\n",
    "        return self.numerator/self.denominator\n",
    "\n",
    "    def __int__(self):\n",
    "        return int(self.numerator/self.denominator)\n",
    "    \n",
    "    def __neg__(self):\n",
    "        return Rational(-self.numerator,self.denominator)\n",
    "    \n",
    "    def __add__(self, other):\n",
    "        if type(other) == self.__class__:\n",
    "            if self.denominator != other.denominator:\n",
    "                num = self.numerator*other.denominator + other.numerator*self.denominator\n",
    "                den = self.denominator * other.denominator\n",
    "            else:\n",
    "                num = self.numerator + other.numerator\n",
    "                den = self.denominator\n",
    "        else:\n",
    "            num = self.numerator + self.denominator * other\n",
    "            den = self.denominator\n",
    "        \n",
    "        num, den  = self.gcd(num,den)\n",
    "        return Rational(num,den)\n",
    "\n",
    "    def __radd__(self, other):\n",
    "        if type(other) == self.__class__:\n",
    "            if self.denominator != other.denominator:\n",
    "                num = self.numerator*other.denominator + other.numerator*self.denominator\n",
    "                den = self.denominator * other.denominator\n",
    "            else:\n",
    "                num = self.numerator + other.numerator\n",
    "                den = self.denominator\n",
    "        else:\n",
    "            num = self.numerator + self.denominator * other\n",
    "            den = self.denominator\n",
    "        \n",
    "        num, den  = self.gcd(num,den)\n",
    "        return Rational(num,den)\n",
    "\n",
    "    def __sub__(self, other):\n",
    "        if type(other) == self.__class__:\n",
    "            if self.denominator != other.denominator:\n",
    "                num = self.numerator*other.denominator - other.numerator*self.denominator\n",
    "                den = self.denominator * other.denominator\n",
    "            else:\n",
    "                num = self.numerator - other.numerator\n",
    "                den = self.denominator\n",
    "        else:\n",
    "            num = self.numerator - self.denominator * other\n",
    "            den = self.denominator\n",
    "        \n",
    "        num, den  = self.gcd(num,den)\n",
    "        return Rational(num,den)\n",
    "\n",
    "    def __rsub__(self, other):\n",
    "        if type(other) == self.__class__:\n",
    "            if self.denominator != other.denominator:\n",
    "                num = other.numerator*self.denominator - self.numerator*other.denominator \n",
    "                den = self.denominator * other.denominator\n",
    "            else:\n",
    "                num = other.numerator - self.numerator\n",
    "                den = self.denominator\n",
    "        else:\n",
    "            num = self.denominator * other - self.numerator\n",
    "            den = self.denominator\n",
    "        \n",
    "        num, den  = self.gcd(num,den)\n",
    "        return Rational(num,den)\n",
    "    \n",
    "\n",
    "    def __lt__(self,other):\n",
    "        if type(other) == self.__class__:\n",
    "            s = eval(repr(self))\n",
    "            o = eval(repr(other))\n",
    "        else:\n",
    "            s = eval(repr(self))\n",
    "            o = (other)\n",
    "        if s<o:return 1\n",
    "        else:return 0\n",
    "\n",
    "    def __gt__(self,other):\n",
    "        if type(other) == self.__class__:\n",
    "            s = eval(repr(self))\n",
    "            o = eval(repr(other))\n",
    "        else:\n",
    "            s = eval(repr(self))\n",
    "            o = other\n",
    "        if s>o:return 1\n",
    "        else:return 0\n",
    "\n",
    "    def __eq__(self,other):\n",
    "        if type(other) == self.__class__:\n",
    "            s = eval(repr(self))\n",
    "            o = eval(repr(other))\n",
    "        else:\n",
    "            s = eval(repr(self))\n",
    "            o = other\n",
    "        if s==o:return 1\n",
    "        else:return 0\n",
    "\n",
    "def square_root_rational(x,abs_tol=Rational(1,1000)):\n",
    "    \"\"\"square root\n",
    "\n",
    "    Args:\n",
    "        x ([type]): [description]\n",
    "        abs_tol ([type], optional): [description]. Defaults to Rational(1,1000).\n",
    "\n",
    "    Returns:\n",
    "        [type]: [description]\n",
    "    \"\"\"    \n",
    "    assert isinstance(x,Rational)\n",
    "    assert isinstance(abs_tol,Rational)\n",
    "    number = float(x)\n",
    "    epsilon = float(abs_tol)\n",
    "    def squareRoot(x,epsilon):\n",
    "        low = 0\n",
    "        high = max(1.0,x)\n",
    "        y = (high+low)/2.0\n",
    "        while abs(y**2-x)>=epsilon:\n",
    "            if y**2 < x:\n",
    "                low = y\n",
    "            else:\n",
    "                high = y\n",
    "            y = (high+low)/2.0\n",
    "        return y\n",
    "    square_root = squareRoot(number,epsilon)\n",
    "    fraction = (square_root).as_integer_ratio()\n",
    "    return Rational(fraction[0],fraction[1])\n",
    "    \n",
    "    "
   ],
   "outputs": [],
   "metadata": {}
  },
  {
   "cell_type": "markdown",
   "source": [
    "bb"
   ],
   "metadata": {}
  },
  {
   "cell_type": "markdown",
   "source": [],
   "metadata": {}
  },
  {
   "cell_type": "markdown",
   "source": [
    "c = square_root_rational(Rational(1112,3),abs_tol=Rational(1,1000))\n",
    "(float.bbc - sqrt(z))"
   ],
   "metadata": {}
  },
  {
   "cell_type": "markdown",
   "source": [],
   "metadata": {}
  },
  {
   "cell_type": "code",
   "execution_count": 52,
   "source": [
    "bbc = square_root_rational(Rational(1112,3),abs_tol=Rational(1,1000))\n",
    "(float(bbc) - sqrt(z))"
   ],
   "outputs": [
    {
     "output_type": "execute_result",
     "data": {
      "text/plain": [
       "1.7302581802880468e-05"
      ]
     },
     "metadata": {},
     "execution_count": 52
    }
   ],
   "metadata": {}
  },
  {
   "cell_type": "code",
   "execution_count": 53,
   "source": [
    "square_root_rational(Rational(1112,3),abs_tol=Rational(1,1000))"
   ],
   "outputs": [
    {
     "output_type": "execute_result",
     "data": {
      "text/plain": [
       "20187943/1048576"
      ]
     },
     "metadata": {},
     "execution_count": 53
    }
   ],
   "metadata": {}
  }
 ],
 "metadata": {
  "orig_nbformat": 4,
  "language_info": {
   "name": "python",
   "version": "3.7.10",
   "mimetype": "text/x-python",
   "codemirror_mode": {
    "name": "ipython",
    "version": 3
   },
   "pygments_lexer": "ipython3",
   "nbconvert_exporter": "python",
   "file_extension": ".py"
  },
  "kernelspec": {
   "name": "python3",
   "display_name": "Python 3.7.10 64-bit ('datascience': conda)"
  },
  "interpreter": {
   "hash": "617f11523be5cd817b7834227564a7fc9dbfbd59f0605d4738510472b4b375ae"
  }
 },
 "nbformat": 4,
 "nbformat_minor": 2
}